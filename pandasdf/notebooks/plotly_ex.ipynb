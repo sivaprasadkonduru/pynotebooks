{
 "cells": [
  {
   "cell_type": "code",
   "execution_count": 4,
   "metadata": {},
   "outputs": [
    {
     "data": {
      "application/vnd.plotly.v1+json": {
       "config": {
        "plotlyServerURL": "https://plot.ly"
       },
       "data": [
        {
         "alignmentgroup": "True",
         "hovertemplate": "Team=%{x}<br>Salary=%{y}<extra></extra>",
         "legendgroup": "",
         "marker": {
          "color": "#636efa",
          "pattern": {
           "shape": ""
          }
         },
         "name": "",
         "offsetgroup": "",
         "orientation": "v",
         "showlegend": false,
         "textposition": "auto",
         "type": "bar",
         "x": [
          "Boston Celtics",
          "Boston Celtics",
          "Boston Celtics",
          "Boston Celtics",
          "Boston Celtics",
          "Boston Celtics",
          "Boston Celtics",
          "Boston Celtics",
          "Boston Celtics",
          "Boston Celtics",
          "Boston Celtics",
          "Boston Celtics",
          "Boston Celtics",
          "Boston Celtics",
          "Boston Celtics",
          "Brooklyn Nets",
          "Brooklyn Nets",
          "Brooklyn Nets",
          "Brooklyn Nets",
          "Brooklyn Nets",
          "Brooklyn Nets",
          "Brooklyn Nets",
          "Brooklyn Nets",
          "Brooklyn Nets",
          "Brooklyn Nets",
          "Brooklyn Nets",
          "Brooklyn Nets",
          "Brooklyn Nets",
          "Brooklyn Nets",
          "Brooklyn Nets",
          "New York Knicks",
          "New York Knicks",
          "New York Knicks",
          "New York Knicks",
          "New York Knicks",
          "New York Knicks",
          "New York Knicks",
          "New York Knicks",
          "New York Knicks",
          "New York Knicks",
          "New York Knicks",
          "New York Knicks",
          "New York Knicks",
          "New York Knicks",
          "New York Knicks",
          "New York Knicks",
          "Philadelphia 76ers",
          "Philadelphia 76ers",
          "Philadelphia 76ers",
          "Philadelphia 76ers",
          "Philadelphia 76ers",
          "Philadelphia 76ers",
          "Philadelphia 76ers",
          "Philadelphia 76ers",
          "Philadelphia 76ers",
          "Philadelphia 76ers",
          "Philadelphia 76ers",
          "Philadelphia 76ers",
          "Philadelphia 76ers",
          "Philadelphia 76ers",
          "Philadelphia 76ers",
          "Toronto Raptors",
          "Toronto Raptors",
          "Toronto Raptors",
          "Toronto Raptors",
          "Toronto Raptors",
          "Toronto Raptors",
          "Toronto Raptors",
          "Toronto Raptors",
          "Toronto Raptors",
          "Toronto Raptors",
          "Toronto Raptors",
          "Toronto Raptors",
          "Toronto Raptors",
          "Toronto Raptors",
          "Toronto Raptors",
          "Golden State Warriors",
          "Golden State Warriors",
          "Golden State Warriors",
          "Golden State Warriors",
          "Golden State Warriors",
          "Golden State Warriors",
          "Golden State Warriors",
          "Golden State Warriors",
          "Golden State Warriors",
          "Golden State Warriors",
          "Golden State Warriors",
          "Golden State Warriors",
          "Golden State Warriors",
          "Golden State Warriors",
          "Golden State Warriors",
          "Los Angeles Clippers",
          "Los Angeles Clippers",
          "Los Angeles Clippers",
          "Los Angeles Clippers",
          "Los Angeles Clippers",
          "Los Angeles Clippers",
          "Los Angeles Clippers",
          "Los Angeles Clippers",
          "Los Angeles Clippers",
          "Los Angeles Clippers",
          "Los Angeles Clippers",
          "Los Angeles Clippers",
          "Los Angeles Clippers",
          "Los Angeles Clippers",
          "Los Angeles Clippers",
          "Los Angeles Lakers",
          "Los Angeles Lakers",
          "Los Angeles Lakers",
          "Los Angeles Lakers",
          "Los Angeles Lakers",
          "Los Angeles Lakers",
          "Los Angeles Lakers",
          "Los Angeles Lakers",
          "Los Angeles Lakers",
          "Los Angeles Lakers",
          "Los Angeles Lakers",
          "Los Angeles Lakers",
          "Los Angeles Lakers",
          "Los Angeles Lakers",
          "Los Angeles Lakers",
          "Phoenix Suns",
          "Phoenix Suns",
          "Phoenix Suns",
          "Phoenix Suns",
          "Phoenix Suns",
          "Phoenix Suns",
          "Phoenix Suns",
          "Phoenix Suns",
          "Phoenix Suns",
          "Phoenix Suns",
          "Phoenix Suns",
          "Phoenix Suns",
          "Phoenix Suns",
          "Phoenix Suns",
          "Phoenix Suns",
          "Sacramento Kings",
          "Sacramento Kings",
          "Sacramento Kings",
          "Sacramento Kings",
          "Sacramento Kings",
          "Sacramento Kings",
          "Sacramento Kings",
          "Sacramento Kings",
          "Sacramento Kings",
          "Sacramento Kings",
          "Sacramento Kings",
          "Sacramento Kings",
          "Sacramento Kings",
          "Sacramento Kings",
          "Sacramento Kings",
          "Chicago Bulls",
          "Chicago Bulls",
          "Chicago Bulls",
          "Chicago Bulls",
          "Chicago Bulls",
          "Chicago Bulls",
          "Chicago Bulls",
          "Chicago Bulls",
          "Chicago Bulls",
          "Chicago Bulls",
          "Chicago Bulls",
          "Chicago Bulls",
          "Chicago Bulls",
          "Chicago Bulls",
          "Chicago Bulls",
          "Cleveland Cavaliers",
          "Cleveland Cavaliers",
          "Cleveland Cavaliers",
          "Cleveland Cavaliers",
          "Cleveland Cavaliers",
          "Cleveland Cavaliers",
          "Cleveland Cavaliers",
          "Cleveland Cavaliers",
          "Cleveland Cavaliers",
          "Cleveland Cavaliers",
          "Cleveland Cavaliers",
          "Cleveland Cavaliers",
          "Cleveland Cavaliers",
          "Cleveland Cavaliers",
          "Cleveland Cavaliers",
          "Detroit Pistons",
          "Detroit Pistons",
          "Detroit Pistons",
          "Detroit Pistons",
          "Detroit Pistons",
          "Detroit Pistons",
          "Detroit Pistons",
          "Detroit Pistons",
          "Detroit Pistons",
          "Detroit Pistons",
          "Detroit Pistons",
          "Detroit Pistons",
          "Detroit Pistons",
          "Detroit Pistons",
          "Detroit Pistons",
          "Indiana Pacers",
          "Indiana Pacers",
          "Indiana Pacers",
          "Indiana Pacers",
          "Indiana Pacers",
          "Indiana Pacers",
          "Indiana Pacers",
          "Indiana Pacers",
          "Indiana Pacers",
          "Indiana Pacers",
          "Indiana Pacers",
          "Indiana Pacers",
          "Indiana Pacers",
          "Indiana Pacers",
          "Indiana Pacers",
          "Milwaukee Bucks",
          "Milwaukee Bucks",
          "Milwaukee Bucks",
          "Milwaukee Bucks",
          "Milwaukee Bucks",
          "Milwaukee Bucks",
          "Milwaukee Bucks",
          "Milwaukee Bucks",
          "Milwaukee Bucks",
          "Milwaukee Bucks",
          "Milwaukee Bucks",
          "Milwaukee Bucks",
          "Milwaukee Bucks",
          "Milwaukee Bucks",
          "Milwaukee Bucks",
          "Milwaukee Bucks",
          "Dallas Mavericks",
          "Dallas Mavericks",
          "Dallas Mavericks",
          "Dallas Mavericks",
          "Dallas Mavericks",
          "Dallas Mavericks",
          "Dallas Mavericks",
          "Dallas Mavericks",
          "Dallas Mavericks",
          "Dallas Mavericks",
          "Dallas Mavericks",
          "Dallas Mavericks",
          "Dallas Mavericks",
          "Dallas Mavericks",
          "Dallas Mavericks",
          "Houston Rockets",
          "Houston Rockets",
          "Houston Rockets",
          "Houston Rockets",
          "Houston Rockets",
          "Houston Rockets",
          "Houston Rockets",
          "Houston Rockets",
          "Houston Rockets",
          "Houston Rockets",
          "Houston Rockets",
          "Houston Rockets",
          "Houston Rockets",
          "Houston Rockets",
          "Houston Rockets",
          "Memphis Grizzlies",
          "Memphis Grizzlies",
          "Memphis Grizzlies",
          "Memphis Grizzlies",
          "Memphis Grizzlies",
          "Memphis Grizzlies",
          "Memphis Grizzlies",
          "Memphis Grizzlies",
          "Memphis Grizzlies",
          "Memphis Grizzlies",
          "Memphis Grizzlies",
          "Memphis Grizzlies",
          "Memphis Grizzlies",
          "Memphis Grizzlies",
          "Memphis Grizzlies",
          "Memphis Grizzlies",
          "Memphis Grizzlies",
          "Memphis Grizzlies",
          "New Orleans Pelicans",
          "New Orleans Pelicans",
          "New Orleans Pelicans",
          "New Orleans Pelicans",
          "New Orleans Pelicans",
          "New Orleans Pelicans",
          "New Orleans Pelicans",
          "New Orleans Pelicans",
          "New Orleans Pelicans",
          "New Orleans Pelicans",
          "New Orleans Pelicans",
          "New Orleans Pelicans",
          "New Orleans Pelicans",
          "New Orleans Pelicans",
          "New Orleans Pelicans",
          "New Orleans Pelicans",
          "New Orleans Pelicans",
          "New Orleans Pelicans",
          "New Orleans Pelicans",
          "San Antonio Spurs",
          "San Antonio Spurs",
          "San Antonio Spurs",
          "San Antonio Spurs",
          "San Antonio Spurs",
          "San Antonio Spurs",
          "San Antonio Spurs",
          "San Antonio Spurs",
          "San Antonio Spurs",
          "San Antonio Spurs",
          "San Antonio Spurs",
          "San Antonio Spurs",
          "San Antonio Spurs",
          "San Antonio Spurs",
          "San Antonio Spurs",
          "Atlanta Hawks",
          "Atlanta Hawks",
          "Atlanta Hawks",
          "Atlanta Hawks",
          "Atlanta Hawks",
          "Atlanta Hawks",
          "Atlanta Hawks",
          "Atlanta Hawks",
          "Atlanta Hawks",
          "Atlanta Hawks",
          "Atlanta Hawks",
          "Atlanta Hawks",
          "Atlanta Hawks",
          "Atlanta Hawks",
          "Atlanta Hawks",
          "Charlotte Hornets",
          "Charlotte Hornets",
          "Charlotte Hornets",
          "Charlotte Hornets",
          "Charlotte Hornets",
          "Charlotte Hornets",
          "Charlotte Hornets",
          "Charlotte Hornets",
          "Charlotte Hornets",
          "Charlotte Hornets",
          "Charlotte Hornets",
          "Charlotte Hornets",
          "Charlotte Hornets",
          "Charlotte Hornets",
          "Charlotte Hornets",
          "Miami Heat",
          "Miami Heat",
          "Miami Heat",
          "Miami Heat",
          "Miami Heat",
          "Miami Heat",
          "Miami Heat",
          "Miami Heat",
          "Miami Heat",
          "Miami Heat",
          "Miami Heat",
          "Miami Heat",
          "Miami Heat",
          "Miami Heat",
          "Miami Heat",
          "Orlando Magic",
          "Orlando Magic",
          "Orlando Magic",
          "Orlando Magic",
          "Orlando Magic",
          "Orlando Magic",
          "Orlando Magic",
          "Orlando Magic",
          "Orlando Magic",
          "Orlando Magic",
          "Orlando Magic",
          "Orlando Magic",
          "Orlando Magic",
          "Orlando Magic",
          "Washington Wizards",
          "Washington Wizards",
          "Washington Wizards",
          "Washington Wizards",
          "Washington Wizards",
          "Washington Wizards",
          "Washington Wizards",
          "Washington Wizards",
          "Washington Wizards",
          "Washington Wizards",
          "Washington Wizards",
          "Washington Wizards",
          "Washington Wizards",
          "Washington Wizards",
          "Washington Wizards",
          "Denver Nuggets",
          "Denver Nuggets",
          "Denver Nuggets",
          "Denver Nuggets",
          "Denver Nuggets",
          "Denver Nuggets",
          "Denver Nuggets",
          "Denver Nuggets",
          "Denver Nuggets",
          "Denver Nuggets",
          "Denver Nuggets",
          "Denver Nuggets",
          "Denver Nuggets",
          "Denver Nuggets",
          "Denver Nuggets",
          "Minnesota Timberwolves",
          "Minnesota Timberwolves",
          "Minnesota Timberwolves",
          "Minnesota Timberwolves",
          "Minnesota Timberwolves",
          "Minnesota Timberwolves",
          "Minnesota Timberwolves",
          "Minnesota Timberwolves",
          "Minnesota Timberwolves",
          "Minnesota Timberwolves",
          "Minnesota Timberwolves",
          "Minnesota Timberwolves",
          "Minnesota Timberwolves",
          "Minnesota Timberwolves",
          "Oklahoma City Thunder",
          "Oklahoma City Thunder",
          "Oklahoma City Thunder",
          "Oklahoma City Thunder",
          "Oklahoma City Thunder",
          "Oklahoma City Thunder",
          "Oklahoma City Thunder",
          "Oklahoma City Thunder",
          "Oklahoma City Thunder",
          "Oklahoma City Thunder",
          "Oklahoma City Thunder",
          "Oklahoma City Thunder",
          "Oklahoma City Thunder",
          "Oklahoma City Thunder",
          "Oklahoma City Thunder",
          "Portland Trail Blazers",
          "Portland Trail Blazers",
          "Portland Trail Blazers",
          "Portland Trail Blazers",
          "Portland Trail Blazers",
          "Portland Trail Blazers",
          "Portland Trail Blazers",
          "Portland Trail Blazers",
          "Portland Trail Blazers",
          "Portland Trail Blazers",
          "Portland Trail Blazers",
          "Portland Trail Blazers",
          "Portland Trail Blazers",
          "Portland Trail Blazers",
          "Portland Trail Blazers",
          "Utah Jazz",
          "Utah Jazz",
          "Utah Jazz",
          "Utah Jazz",
          "Utah Jazz",
          "Utah Jazz",
          "Utah Jazz",
          "Utah Jazz",
          "Utah Jazz",
          "Utah Jazz",
          "Utah Jazz",
          "Utah Jazz",
          "Utah Jazz",
          "Utah Jazz",
          "Utah Jazz"
         ],
         "xaxis": "x",
         "y": [
          7730337,
          6796117,
          null,
          1148640,
          5000000,
          12000000,
          1170960,
          2165160,
          1824360,
          3431040,
          2569260,
          6912869,
          3425510,
          1749840,
          2616975,
          3425510,
          845059,
          1500000,
          1335480,
          6300000,
          1599840,
          134215,
          1500000,
          19689000,
          1140240,
          947276,
          981348,
          947276,
          947276,
          11235955,
          8000000,
          1635476,
          30888,
          22875000,
          7402812,
          845059,
          845059,
          1572360,
          12650000,
          3750000,
          4131720,
          2814000,
          1636842,
          947276,
          4000000,
          167406,
          null,
          947276,
          1000000,
          4626960,
          845059,
          1074169,
          6500000,
          2144772,
          525093,
          3457800,
          4582680,
          947276,
          2869440,
          947276,
          525093,
          2814000,
          1524000,
          13600000,
          10050000,
          2500000,
          7000000,
          12000000,
          1842000,
          6268675,
          650000,
          3553917,
          2900000,
          245177,
          4660482,
          1509360,
          2500000,
          3873398,
          13800000,
          947276,
          11370786,
          2008748,
          14260870,
          11710456,
          5543725,
          1131960,
          845059,
          1270964,
          3815000,
          15501000,
          289755,
          1100602,
          111444,
          5675000,
          525093,
          9650000,
          18907726,
          1100602,
          19689000,
          947276,
          21468695,
          3376000,
          947726,
          7085000,
          3110796,
          1159680,
          3000000,
          845059,
          700000,
          25000000,
          845059,
          15592217,
          525093,
          1724250,
          1155600,
          3132240,
          5103120,
          981348,
          7000000,
          947276,
          5219169,
          13500000,
          2127840,
          206192,
          13000000,
          1160160,
          981348,
          13500000,
          3807120,
          1035000,
          55722,
          947276,
          5500000,
          5500000,
          2041080,
          83397,
          981348,
          1015421,
          6060606,
          1449187,
          2836186,
          3398280,
          5013559,
          15851950,
          947276,
          525093,
          12403101,
          7700000,
          3156600,
          845059,
          9500000,
          845059,
          2250000,
          16407500,
          4500000,
          525093,
          7448760,
          8500000,
          947276,
          2380440,
          5543725,
          1015421,
          13400000,
          1391160,
          20093064,
          1535880,
          1147276,
          8193029,
          16407501,
          22970500,
          947276,
          null,
          947276,
          1276000,
          19689000,
          111196,
          4950000,
          8988765,
          5000000,
          14260870,
          2100000,
          2500000,
          6500000,
          2170465,
          111444,
          1252440,
          2891760,
          845059,
          3272091,
          16000000,
          600000,
          13913044,
          2841960,
          6270000,
          5000000,
          3000000,
          4050000,
          1007026,
          10300000,
          17120106,
          8000000,
          4000000,
          1358880,
          211744,
          4000000,
          4394225,
          1100000,
          7000000,
          2357760,
          845059,
          1007026,
          1953960,
          3000000,
          2399040,
          947276,
          1662360,
          2943221,
          855000,
          8000000,
          14700000,
          16407500,
          295327,
          845059,
          5152440,
          2109294,
          6600000,
          1733040,
          1449000,
          4290000,
          1100602,
          3950313,
          4053446,
          2085671,
          16407500,
          1270964,
          525093,
          8333334,
          5200000,
          15361500,
          845059,
          947276,
          5378974,
          8193030,
          306527,
          6486486,
          8229375,
          1242720,
          1646400,
          200600,
          15756438,
          1000000,
          22359364,
          2489530,
          3189794,
          2288205,
          947276,
          947276,
          1404600,
          5158539,
          5000000,
          3542500,
          4088019,
          9588426,
          700902,
          null,
          19688000,
          845059,
          1201440,
          1230840,
          null,
          null,
          9638555,
          9000000,
          null,
          5464000,
          4389607,
          8500000,
          9213483,
          1100602,
          3036927,
          2850000,
          7070730,
          169883,
          1164858,
          845059,
          10734586,
          845059,
          1320000,
          15514031,
          1015421,
          10595507,
          55722,
          947276,
          3382023,
          19689000,
          1142880,
          947276,
          7500000,
          5250000,
          2814000,
          10000000,
          16407500,
          1200000,
          200600,
          250750,
          3578947,
          13437500,
          525093,
          1499187,
          2000000,
          1304520,
          2854940,
          12000000,
          1000000,
          5746479,
          18671659,
          947276,
          525093,
          1763400,
          3333333,
          4000000,
          9756250,
          1000000,
          8000000,
          13125306,
          947276,
          189455,
          947276,
          525093,
          6110034,
          13500000,
          2612520,
          6331404,
          3034356,
          5675000,
          2139000,
          12000000,
          7000000,
          4204200,
          22192730,
          10151612,
          14783000,
          947276,
          2854940,
          261894,
          845059,
          5543725,
          525093,
          947276,
          20000000,
          null,
          981348,
          2481720,
          null,
          947276,
          2288205,
          4171680,
          3741480,
          7900000,
          8344497,
          845059,
          1294440,
          2380593,
          5192520,
          2505720,
          4300000,
          11250000,
          5000000,
          4000000,
          5694674,
          4375000,
          561716,
          3300000,
          11217391,
          273038,
          13000000,
          8000000,
          1920240,
          4662960,
          2170465,
          1100602,
          200600,
          15851950,
          2814000,
          3000000,
          3533333,
          10449438,
          11235955,
          14000000,
          1584480,
          1300000,
          1709719,
          947276,
          3102240,
          4345000,
          1842000,
          258489,
          null,
          3950001,
          1474440,
          8500000,
          1282080,
          2148360,
          2056920,
          1938840,
          12100000,
          947276,
          12700000,
          1149500,
          null,
          5703600,
          5758680,
          2279040,
          3750000,
          20158622,
          3135000,
          1140240,
          12250000,
          16407500,
          1463040,
          222888,
          3344000,
          2021520,
          1210800,
          4500000,
          5138430,
          16744218,
          525093,
          8042895,
          625093,
          947276,
          6980802,
          2894059,
          6000000,
          5016000,
          3075880,
          4236287,
          2525160,
          525093,
          1415520,
          2854940,
          2637720,
          4775000,
          2658240,
          9463484,
          3777720,
          12000000,
          1175880,
          15409570,
          1348440,
          2050000,
          981348,
          2239800,
          2433333,
          900000,
          2900000,
          947276
         ],
         "yaxis": "y"
        }
       ],
       "layout": {
        "barmode": "relative",
        "legend": {
         "tracegroupgap": 0
        },
        "margin": {
         "t": 60
        },
        "template": {
         "data": {
          "bar": [
           {
            "error_x": {
             "color": "#2a3f5f"
            },
            "error_y": {
             "color": "#2a3f5f"
            },
            "marker": {
             "line": {
              "color": "#E5ECF6",
              "width": 0.5
             },
             "pattern": {
              "fillmode": "overlay",
              "size": 10,
              "solidity": 0.2
             }
            },
            "type": "bar"
           }
          ],
          "barpolar": [
           {
            "marker": {
             "line": {
              "color": "#E5ECF6",
              "width": 0.5
             },
             "pattern": {
              "fillmode": "overlay",
              "size": 10,
              "solidity": 0.2
             }
            },
            "type": "barpolar"
           }
          ],
          "carpet": [
           {
            "aaxis": {
             "endlinecolor": "#2a3f5f",
             "gridcolor": "white",
             "linecolor": "white",
             "minorgridcolor": "white",
             "startlinecolor": "#2a3f5f"
            },
            "baxis": {
             "endlinecolor": "#2a3f5f",
             "gridcolor": "white",
             "linecolor": "white",
             "minorgridcolor": "white",
             "startlinecolor": "#2a3f5f"
            },
            "type": "carpet"
           }
          ],
          "choropleth": [
           {
            "colorbar": {
             "outlinewidth": 0,
             "ticks": ""
            },
            "type": "choropleth"
           }
          ],
          "contour": [
           {
            "colorbar": {
             "outlinewidth": 0,
             "ticks": ""
            },
            "colorscale": [
             [
              0,
              "#0d0887"
             ],
             [
              0.1111111111111111,
              "#46039f"
             ],
             [
              0.2222222222222222,
              "#7201a8"
             ],
             [
              0.3333333333333333,
              "#9c179e"
             ],
             [
              0.4444444444444444,
              "#bd3786"
             ],
             [
              0.5555555555555556,
              "#d8576b"
             ],
             [
              0.6666666666666666,
              "#ed7953"
             ],
             [
              0.7777777777777778,
              "#fb9f3a"
             ],
             [
              0.8888888888888888,
              "#fdca26"
             ],
             [
              1,
              "#f0f921"
             ]
            ],
            "type": "contour"
           }
          ],
          "contourcarpet": [
           {
            "colorbar": {
             "outlinewidth": 0,
             "ticks": ""
            },
            "type": "contourcarpet"
           }
          ],
          "heatmap": [
           {
            "colorbar": {
             "outlinewidth": 0,
             "ticks": ""
            },
            "colorscale": [
             [
              0,
              "#0d0887"
             ],
             [
              0.1111111111111111,
              "#46039f"
             ],
             [
              0.2222222222222222,
              "#7201a8"
             ],
             [
              0.3333333333333333,
              "#9c179e"
             ],
             [
              0.4444444444444444,
              "#bd3786"
             ],
             [
              0.5555555555555556,
              "#d8576b"
             ],
             [
              0.6666666666666666,
              "#ed7953"
             ],
             [
              0.7777777777777778,
              "#fb9f3a"
             ],
             [
              0.8888888888888888,
              "#fdca26"
             ],
             [
              1,
              "#f0f921"
             ]
            ],
            "type": "heatmap"
           }
          ],
          "heatmapgl": [
           {
            "colorbar": {
             "outlinewidth": 0,
             "ticks": ""
            },
            "colorscale": [
             [
              0,
              "#0d0887"
             ],
             [
              0.1111111111111111,
              "#46039f"
             ],
             [
              0.2222222222222222,
              "#7201a8"
             ],
             [
              0.3333333333333333,
              "#9c179e"
             ],
             [
              0.4444444444444444,
              "#bd3786"
             ],
             [
              0.5555555555555556,
              "#d8576b"
             ],
             [
              0.6666666666666666,
              "#ed7953"
             ],
             [
              0.7777777777777778,
              "#fb9f3a"
             ],
             [
              0.8888888888888888,
              "#fdca26"
             ],
             [
              1,
              "#f0f921"
             ]
            ],
            "type": "heatmapgl"
           }
          ],
          "histogram": [
           {
            "marker": {
             "pattern": {
              "fillmode": "overlay",
              "size": 10,
              "solidity": 0.2
             }
            },
            "type": "histogram"
           }
          ],
          "histogram2d": [
           {
            "colorbar": {
             "outlinewidth": 0,
             "ticks": ""
            },
            "colorscale": [
             [
              0,
              "#0d0887"
             ],
             [
              0.1111111111111111,
              "#46039f"
             ],
             [
              0.2222222222222222,
              "#7201a8"
             ],
             [
              0.3333333333333333,
              "#9c179e"
             ],
             [
              0.4444444444444444,
              "#bd3786"
             ],
             [
              0.5555555555555556,
              "#d8576b"
             ],
             [
              0.6666666666666666,
              "#ed7953"
             ],
             [
              0.7777777777777778,
              "#fb9f3a"
             ],
             [
              0.8888888888888888,
              "#fdca26"
             ],
             [
              1,
              "#f0f921"
             ]
            ],
            "type": "histogram2d"
           }
          ],
          "histogram2dcontour": [
           {
            "colorbar": {
             "outlinewidth": 0,
             "ticks": ""
            },
            "colorscale": [
             [
              0,
              "#0d0887"
             ],
             [
              0.1111111111111111,
              "#46039f"
             ],
             [
              0.2222222222222222,
              "#7201a8"
             ],
             [
              0.3333333333333333,
              "#9c179e"
             ],
             [
              0.4444444444444444,
              "#bd3786"
             ],
             [
              0.5555555555555556,
              "#d8576b"
             ],
             [
              0.6666666666666666,
              "#ed7953"
             ],
             [
              0.7777777777777778,
              "#fb9f3a"
             ],
             [
              0.8888888888888888,
              "#fdca26"
             ],
             [
              1,
              "#f0f921"
             ]
            ],
            "type": "histogram2dcontour"
           }
          ],
          "mesh3d": [
           {
            "colorbar": {
             "outlinewidth": 0,
             "ticks": ""
            },
            "type": "mesh3d"
           }
          ],
          "parcoords": [
           {
            "line": {
             "colorbar": {
              "outlinewidth": 0,
              "ticks": ""
             }
            },
            "type": "parcoords"
           }
          ],
          "pie": [
           {
            "automargin": true,
            "type": "pie"
           }
          ],
          "scatter": [
           {
            "marker": {
             "colorbar": {
              "outlinewidth": 0,
              "ticks": ""
             }
            },
            "type": "scatter"
           }
          ],
          "scatter3d": [
           {
            "line": {
             "colorbar": {
              "outlinewidth": 0,
              "ticks": ""
             }
            },
            "marker": {
             "colorbar": {
              "outlinewidth": 0,
              "ticks": ""
             }
            },
            "type": "scatter3d"
           }
          ],
          "scattercarpet": [
           {
            "marker": {
             "colorbar": {
              "outlinewidth": 0,
              "ticks": ""
             }
            },
            "type": "scattercarpet"
           }
          ],
          "scattergeo": [
           {
            "marker": {
             "colorbar": {
              "outlinewidth": 0,
              "ticks": ""
             }
            },
            "type": "scattergeo"
           }
          ],
          "scattergl": [
           {
            "marker": {
             "colorbar": {
              "outlinewidth": 0,
              "ticks": ""
             }
            },
            "type": "scattergl"
           }
          ],
          "scattermapbox": [
           {
            "marker": {
             "colorbar": {
              "outlinewidth": 0,
              "ticks": ""
             }
            },
            "type": "scattermapbox"
           }
          ],
          "scatterpolar": [
           {
            "marker": {
             "colorbar": {
              "outlinewidth": 0,
              "ticks": ""
             }
            },
            "type": "scatterpolar"
           }
          ],
          "scatterpolargl": [
           {
            "marker": {
             "colorbar": {
              "outlinewidth": 0,
              "ticks": ""
             }
            },
            "type": "scatterpolargl"
           }
          ],
          "scatterternary": [
           {
            "marker": {
             "colorbar": {
              "outlinewidth": 0,
              "ticks": ""
             }
            },
            "type": "scatterternary"
           }
          ],
          "surface": [
           {
            "colorbar": {
             "outlinewidth": 0,
             "ticks": ""
            },
            "colorscale": [
             [
              0,
              "#0d0887"
             ],
             [
              0.1111111111111111,
              "#46039f"
             ],
             [
              0.2222222222222222,
              "#7201a8"
             ],
             [
              0.3333333333333333,
              "#9c179e"
             ],
             [
              0.4444444444444444,
              "#bd3786"
             ],
             [
              0.5555555555555556,
              "#d8576b"
             ],
             [
              0.6666666666666666,
              "#ed7953"
             ],
             [
              0.7777777777777778,
              "#fb9f3a"
             ],
             [
              0.8888888888888888,
              "#fdca26"
             ],
             [
              1,
              "#f0f921"
             ]
            ],
            "type": "surface"
           }
          ],
          "table": [
           {
            "cells": {
             "fill": {
              "color": "#EBF0F8"
             },
             "line": {
              "color": "white"
             }
            },
            "header": {
             "fill": {
              "color": "#C8D4E3"
             },
             "line": {
              "color": "white"
             }
            },
            "type": "table"
           }
          ]
         },
         "layout": {
          "annotationdefaults": {
           "arrowcolor": "#2a3f5f",
           "arrowhead": 0,
           "arrowwidth": 1
          },
          "autotypenumbers": "strict",
          "coloraxis": {
           "colorbar": {
            "outlinewidth": 0,
            "ticks": ""
           }
          },
          "colorscale": {
           "diverging": [
            [
             0,
             "#8e0152"
            ],
            [
             0.1,
             "#c51b7d"
            ],
            [
             0.2,
             "#de77ae"
            ],
            [
             0.3,
             "#f1b6da"
            ],
            [
             0.4,
             "#fde0ef"
            ],
            [
             0.5,
             "#f7f7f7"
            ],
            [
             0.6,
             "#e6f5d0"
            ],
            [
             0.7,
             "#b8e186"
            ],
            [
             0.8,
             "#7fbc41"
            ],
            [
             0.9,
             "#4d9221"
            ],
            [
             1,
             "#276419"
            ]
           ],
           "sequential": [
            [
             0,
             "#0d0887"
            ],
            [
             0.1111111111111111,
             "#46039f"
            ],
            [
             0.2222222222222222,
             "#7201a8"
            ],
            [
             0.3333333333333333,
             "#9c179e"
            ],
            [
             0.4444444444444444,
             "#bd3786"
            ],
            [
             0.5555555555555556,
             "#d8576b"
            ],
            [
             0.6666666666666666,
             "#ed7953"
            ],
            [
             0.7777777777777778,
             "#fb9f3a"
            ],
            [
             0.8888888888888888,
             "#fdca26"
            ],
            [
             1,
             "#f0f921"
            ]
           ],
           "sequentialminus": [
            [
             0,
             "#0d0887"
            ],
            [
             0.1111111111111111,
             "#46039f"
            ],
            [
             0.2222222222222222,
             "#7201a8"
            ],
            [
             0.3333333333333333,
             "#9c179e"
            ],
            [
             0.4444444444444444,
             "#bd3786"
            ],
            [
             0.5555555555555556,
             "#d8576b"
            ],
            [
             0.6666666666666666,
             "#ed7953"
            ],
            [
             0.7777777777777778,
             "#fb9f3a"
            ],
            [
             0.8888888888888888,
             "#fdca26"
            ],
            [
             1,
             "#f0f921"
            ]
           ]
          },
          "colorway": [
           "#636efa",
           "#EF553B",
           "#00cc96",
           "#ab63fa",
           "#FFA15A",
           "#19d3f3",
           "#FF6692",
           "#B6E880",
           "#FF97FF",
           "#FECB52"
          ],
          "font": {
           "color": "#2a3f5f"
          },
          "geo": {
           "bgcolor": "white",
           "lakecolor": "white",
           "landcolor": "#E5ECF6",
           "showlakes": true,
           "showland": true,
           "subunitcolor": "white"
          },
          "hoverlabel": {
           "align": "left"
          },
          "hovermode": "closest",
          "mapbox": {
           "style": "light"
          },
          "paper_bgcolor": "white",
          "plot_bgcolor": "#E5ECF6",
          "polar": {
           "angularaxis": {
            "gridcolor": "white",
            "linecolor": "white",
            "ticks": ""
           },
           "bgcolor": "#E5ECF6",
           "radialaxis": {
            "gridcolor": "white",
            "linecolor": "white",
            "ticks": ""
           }
          },
          "scene": {
           "xaxis": {
            "backgroundcolor": "#E5ECF6",
            "gridcolor": "white",
            "gridwidth": 2,
            "linecolor": "white",
            "showbackground": true,
            "ticks": "",
            "zerolinecolor": "white"
           },
           "yaxis": {
            "backgroundcolor": "#E5ECF6",
            "gridcolor": "white",
            "gridwidth": 2,
            "linecolor": "white",
            "showbackground": true,
            "ticks": "",
            "zerolinecolor": "white"
           },
           "zaxis": {
            "backgroundcolor": "#E5ECF6",
            "gridcolor": "white",
            "gridwidth": 2,
            "linecolor": "white",
            "showbackground": true,
            "ticks": "",
            "zerolinecolor": "white"
           }
          },
          "shapedefaults": {
           "line": {
            "color": "#2a3f5f"
           }
          },
          "ternary": {
           "aaxis": {
            "gridcolor": "white",
            "linecolor": "white",
            "ticks": ""
           },
           "baxis": {
            "gridcolor": "white",
            "linecolor": "white",
            "ticks": ""
           },
           "bgcolor": "#E5ECF6",
           "caxis": {
            "gridcolor": "white",
            "linecolor": "white",
            "ticks": ""
           }
          },
          "title": {
           "x": 0.05
          },
          "xaxis": {
           "automargin": true,
           "gridcolor": "white",
           "linecolor": "white",
           "ticks": "",
           "title": {
            "standoff": 15
           },
           "zerolinecolor": "white",
           "zerolinewidth": 2
          },
          "yaxis": {
           "automargin": true,
           "gridcolor": "white",
           "linecolor": "white",
           "ticks": "",
           "title": {
            "standoff": 15
           },
           "zerolinecolor": "white",
           "zerolinewidth": 2
          }
         }
        },
        "xaxis": {
         "anchor": "y",
         "domain": [
          0,
          1
         ],
         "title": {
          "text": "Team"
         }
        },
        "yaxis": {
         "anchor": "x",
         "domain": [
          0,
          1
         ],
         "title": {
          "text": "Salary"
         }
        }
       }
      }
     },
     "metadata": {},
     "output_type": "display_data"
    }
   ],
   "source": [
    "import plotly.express as px\n",
    "import pandas as pd\n",
    "from pathlib import Path\n",
    "\n",
    "csv_path = Path.cwd().parent / 'csv_files' / 'nba.csv'\n",
    "\n",
    "df = pd.read_csv(csv_path)\n",
    "# removing rows with null or NAN values\n",
    "df.dropna(how=\"any\").head()\n",
    "fig = px.bar(df, x='Team', y=\"Salary\")\n",
    "fig.show()"
   ]
  },
  {
   "cell_type": "code",
   "execution_count": 14,
   "metadata": {},
   "outputs": [
    {
     "data": {
      "application/vnd.jupyter.widget-view+json": {
       "model_id": "6b7454abf5434e4bbb1b8a10a177e215",
       "version_major": 2,
       "version_minor": 0
      },
      "text/plain": [
       "FigureWidget({\n",
       "    'data': [{'hovertemplate': 'x=%{x}<br>y=%{y}<extra></extra>',\n",
       "              'legendgroup': …"
      ]
     },
     "metadata": {},
     "output_type": "display_data"
    }
   ],
   "source": [
    "import plotly.graph_objs as go\n",
    "fig_widget = go.FigureWidget(fig)\n",
    "fig_widget"
   ]
  }
 ],
 "metadata": {
  "interpreter": {
   "hash": "20c9e1d057b2b0b1e7519bd57bc539a73e8a0eefdd1f35a5c8bc8731fdf9a40f"
  },
  "kernelspec": {
   "display_name": "Python 3.9.9 ('sreed-qz6BW7iT')",
   "language": "python",
   "name": "python3"
  },
  "language_info": {
   "codemirror_mode": {
    "name": "ipython",
    "version": 3
   },
   "file_extension": ".py",
   "mimetype": "text/x-python",
   "name": "python",
   "nbconvert_exporter": "python",
   "pygments_lexer": "ipython3",
   "version": "3.9.9"
  },
  "orig_nbformat": 4
 },
 "nbformat": 4,
 "nbformat_minor": 2
}
